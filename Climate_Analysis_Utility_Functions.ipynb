{
  "nbformat": 4,
  "nbformat_minor": 0,
  "metadata": {
    "colab": {
      "provenance": [],
      "toc_visible": true,
      "authorship_tag": "ABX9TyOHJH7rQbmpM8ChCUHr+bJn",
      "include_colab_link": true
    },
    "kernelspec": {
      "name": "python3",
      "display_name": "Python 3"
    },
    "language_info": {
      "name": "python"
    }
  },
  "cells": [
    {
      "cell_type": "markdown",
      "metadata": {
        "id": "view-in-github",
        "colab_type": "text"
      },
      "source": [
        "<a href=\"https://colab.research.google.com/github/nmills/climate-utility-functions/blob/main/Climate_Analysis_Utility_Functions.ipynb\" target=\"_parent\"><img src=\"https://colab.research.google.com/assets/colab-badge.svg\" alt=\"Open In Colab\"/></a>"
      ]
    },
    {
      "cell_type": "markdown",
      "source": [
        "# Exploration of Ambient Conditions\n"
      ],
      "metadata": {
        "id": "CkE5f-wky9lG"
      }
    },
    {
      "cell_type": "code",
      "source": [
        "import math\n",
        "import numpy as np"
      ],
      "metadata": {
        "id": "z_alcb0e0VGd"
      },
      "execution_count": null,
      "outputs": []
    },
    {
      "cell_type": "markdown",
      "source": [
        "## Feels Like Temperature\n",
        "\n",
        "Calculating the apparent \"feels like\" temperature\n",
        "\n",
        "Formula adopted from the work done by [Steadman et. al. (1994)](http://www.bom.gov.au/jshess/docs/1994/steadman.pdf) "
      ],
      "metadata": {
        "id": "EztLA6sOzSpU"
      }
    },
    {
      "cell_type": "code",
      "execution_count": null,
      "metadata": {
        "id": "6qa7I8coy27C"
      },
      "outputs": [],
      "source": [
        "def calculate_water_vapour_pressure(relative_humidity, dry_bulb_temperature):\n",
        "    \"\"\"\n",
        "    Calculate the value for water vapour pressure.\n",
        "    e = rh / 100 × 6.105 × exp ( 17.27 × Ta / ( 237.7 + Ta ) )\n",
        "\n",
        "    :parameters\n",
        "    ----------\n",
        "    relative_humidity:\n",
        "\n",
        "    dry_bulb_temperature:\n",
        "\n",
        "    :return: e or water vapour pressure\n",
        "    \"\"\"\n",
        "\n",
        "    return (relative_humidity / 100) * 6.105 * math.exp((17.27 * dry_bulb_temperature) / (237.7 + dry_bulb_temperature))"
      ]
    },
    {
      "cell_type": "code",
      "source": [
        "def calculate_apparent_temperature(dry_bulb_temperature, relative_humidity, wind_speed):\n",
        "    \"\"\"\n",
        "    Including the effects of temperature, humidity, and wind:\n",
        "    AT = Ta + 0.33×e − 0.70×ws − 4.00\n",
        "\n",
        "    :parameters\n",
        "    ----------\n",
        "    dry_bulb_temperature:\n",
        "\n",
        "    relative_humidity:\n",
        "\n",
        "    wind_speed:\n",
        "\n",
        "    :return:\n",
        "    \"\"\"\n",
        "\n",
        "    return (dry_bulb_temperature + 0.33 * calculate_water_vapour_pressure(relative_humidity, dry_bulb_temperature)) \\\n",
        "           - (0.7 * (wind_speed / 3.6)) \\\n",
        "           - 4"
      ],
      "metadata": {
        "id": "1fwSgVaH0Dc6"
      },
      "execution_count": null,
      "outputs": []
    },
    {
      "cell_type": "code",
      "source": [
        "print(calculate_apparent_temperature(10.5, 69.0, 9.0))\n",
        "print(calculate_apparent_temperature(7.7, 91.0, 9.0))"
      ],
      "metadata": {
        "colab": {
          "base_uri": "https://localhost:8080/"
        },
        "id": "7OPa9uDM0G0_",
        "outputId": "b3c4621c-cf27-4819-f235-29c4670aabaa"
      },
      "execution_count": null,
      "outputs": [
        {
          "output_type": "stream",
          "name": "stdout",
          "text": [
            "7.636319392877429\n",
            "5.101950662573325\n"
          ]
        }
      ]
    },
    {
      "cell_type": "markdown",
      "source": [
        "#Section 2"
      ],
      "metadata": {
        "id": "QGPQS8ROKxoj"
      }
    }
  ]
}